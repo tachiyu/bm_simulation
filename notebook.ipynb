{
 "cells": [
  {
   "cell_type": "code",
   "execution_count": 5,
   "metadata": {},
   "outputs": [],
   "source": [
    "%matplotlib ipympl\n",
    "from agents.random import RandomAgent\n",
    "from agents.q_learning import QLearningAgent\n",
    "from agents.sr import SRAgent\n",
    "from envs.BM1 import BM1\n",
    "from envs.BM3 import BM3"
   ]
  },
  {
   "cell_type": "code",
   "execution_count": 6,
   "metadata": {},
   "outputs": [],
   "source": [
    "env = BM1(goal_index=3)\n",
    "agent = SRAgent(env, sr_table_size=10000, alpha=0.1, gamma=0.9, epsilon=0.1)\n",
    "agent.load(\"sr_agent_alpha0.1_gamma0.9_epsilon0.1_sr_table_size10000\")"
   ]
  },
  {
   "cell_type": "code",
   "execution_count": 4,
   "metadata": {},
   "outputs": [
    {
     "data": {
      "text/plain": [
       "8269"
      ]
     },
     "execution_count": 4,
     "metadata": {},
     "output_type": "execute_result"
    }
   ],
   "source": [
    "import numpy as np\n",
    "np.argmax(agent.rewards)"
   ]
  },
  {
   "cell_type": "code",
   "execution_count": 7,
   "metadata": {},
   "outputs": [
    {
     "ename": "IndexError",
     "evalue": "too many indices for array: array is 1-dimensional, but 2 were indexed",
     "output_type": "error",
     "traceback": [
      "\u001b[1;31m---------------------------------------------------------------------------\u001b[0m",
      "\u001b[1;31mIndexError\u001b[0m                                Traceback (most recent call last)",
      "Cell \u001b[1;32mIn[7], line 6\u001b[0m\n\u001b[0;32m      4\u001b[0m action \u001b[39m=\u001b[39m agent\u001b[39m.\u001b[39mstep(observation)\n\u001b[0;32m      5\u001b[0m observation \u001b[39m=\u001b[39m env\u001b[39m.\u001b[39mstep(action)\n\u001b[1;32m----> 6\u001b[0m agent\u001b[39m.\u001b[39;49mupdate(observation)\n\u001b[0;32m      7\u001b[0m \u001b[39mif\u001b[39;00m observation[\u001b[39m\"\u001b[39m\u001b[39mdone\u001b[39m\u001b[39m\"\u001b[39m]:\n\u001b[0;32m      8\u001b[0m     \u001b[39mbreak\u001b[39;00m\n",
      "File \u001b[1;32mc:\\Users\\bdr\\Desktop\\Projects\\bm_simulation\\agents\\sr.py:52\u001b[0m, in \u001b[0;36mSRAgent.update\u001b[1;34m(self, observation)\u001b[0m\n\u001b[0;32m     50\u001b[0m state \u001b[39m=\u001b[39m \u001b[39mself\u001b[39m\u001b[39m.\u001b[39mobservation_to_state(observation)\n\u001b[0;32m     51\u001b[0m reward \u001b[39m=\u001b[39m observation[\u001b[39m\"\u001b[39m\u001b[39mreward\u001b[39m\u001b[39m\"\u001b[39m]\n\u001b[1;32m---> 52\u001b[0m \u001b[39mself\u001b[39m\u001b[39m.\u001b[39mrewards[state] \u001b[39m=\u001b[39m reward\n\u001b[0;32m     53\u001b[0m hot_vector \u001b[39m=\u001b[39m np\u001b[39m.\u001b[39mzeros(\u001b[39mself\u001b[39m\u001b[39m.\u001b[39msr_table_size)\n\u001b[0;32m     54\u001b[0m hot_vector[state] \u001b[39m=\u001b[39m \u001b[39m1\u001b[39m\n",
      "\u001b[1;31mIndexError\u001b[0m: too many indices for array: array is 1-dimensional, but 2 were indexed"
     ]
    }
   ],
   "source": [
    "cnt = 0\n",
    "observation = env.reset()\n",
    "while True:\n",
    "    action = agent.step(observation)\n",
    "    observation = env.step(action)\n",
    "    agent.update(observation)\n",
    "    if observation[\"done\"]:\n",
    "        break\n",
    "    cnt += 1\n",
    "print(f\"{cnt} steps\")"
   ]
  },
  {
   "cell_type": "code",
   "execution_count": 11,
   "metadata": {},
   "outputs": [
    {
     "name": "stdout",
     "output_type": "stream",
     "text": [
      "3\n"
     ]
    }
   ],
   "source": [
    "print(3)"
   ]
  }
 ],
 "metadata": {
  "kernelspec": {
   "display_name": "bm_simulation",
   "language": "python",
   "name": "python3"
  },
  "language_info": {
   "codemirror_mode": {
    "name": "ipython",
    "version": 3
   },
   "file_extension": ".py",
   "mimetype": "text/x-python",
   "name": "python",
   "nbconvert_exporter": "python",
   "pygments_lexer": "ipython3",
   "version": "3.11.3"
  },
  "orig_nbformat": 4
 },
 "nbformat": 4,
 "nbformat_minor": 2
}
